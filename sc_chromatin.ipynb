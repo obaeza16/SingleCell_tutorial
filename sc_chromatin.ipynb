{
 "cells": [
  {
   "cell_type": "code",
   "execution_count": 24,
   "metadata": {},
   "outputs": [
    {
     "name": "stdout",
     "output_type": "stream",
     "text": [
      "The rpy2.ipython extension is already loaded. To reload it, use:\n",
      "  %reload_ext rpy2.ipython\n"
     ]
    },
    {
     "name": "stderr",
     "output_type": "stream",
     "text": [
      "/tmp/ipykernel_24135/3550009817.py:21: DeprecationWarning: The global conversion available with activate() is deprecated and will be removed in the next major release. Use a local converter.\n",
      "  anndata2ri.activate()\n"
     ]
    }
   ],
   "source": [
    "# Single-cell packages\n",
    "import scanpy as sc\n",
    "import muon as mu\n",
    "from muon import atac as ac  # the module containing function for scATAC data processing\n",
    "\n",
    "# General helpful packages for data analysis and visualization\n",
    "import os\n",
    "import pandas as pd\n",
    "import numpy as np\n",
    "import matplotlib.pyplot as plt\n",
    "import seaborn as sns\n",
    "\n",
    "os.environ['R_HOME'] = '/home/oscar/miniconda3/envs/chromatin/lib/R'\n",
    "# Packages enabling to run R code\n",
    "import rpy2.rinterface_lib.callbacks\n",
    "import logging\n",
    "from rpy2.robjects import pandas2ri\n",
    "import anndata2ri\n",
    "\n",
    "pandas2ri.activate()  # Automatically convert rpy2 outputs to pandas DataFrames\n",
    "anndata2ri.activate()\n",
    "%load_ext rpy2.ipython\n",
    "\n",
    "\n",
    "# Setting figure parameters\n",
    "sc.settings.verbosity = 0\n",
    "sns.set(rc={\"figure.figsize\": (4, 3.5), \"figure.dpi\": 100})\n",
    "sns.set_style(\"whitegrid\")\n"
   ]
  },
  {
   "cell_type": "code",
   "execution_count": null,
   "metadata": {},
   "outputs": [],
   "source": [
    "mdata = mu.read_10x_h5(\"cellranger_out/filtered_feature_bc_matrix.h5\")"
   ]
  },
  {
   "cell_type": "code",
   "execution_count": null,
   "metadata": {},
   "outputs": [],
   "source": [
    "mdata.var_names_make_unique()"
   ]
  },
  {
   "cell_type": "code",
   "execution_count": null,
   "metadata": {},
   "outputs": [],
   "source": [
    "mdata"
   ]
  },
  {
   "cell_type": "code",
   "execution_count": null,
   "metadata": {},
   "outputs": [],
   "source": [
    "mdata.mod[\"atac\"].uns"
   ]
  },
  {
   "cell_type": "code",
   "execution_count": null,
   "metadata": {},
   "outputs": [],
   "source": [
    "atac = mdata.mod[\"atac\"]"
   ]
  },
  {
   "cell_type": "code",
   "execution_count": null,
   "metadata": {},
   "outputs": [],
   "source": [
    "%%R\n",
    ".libPaths()"
   ]
  },
  {
   "cell_type": "code",
   "execution_count": null,
   "metadata": {},
   "outputs": [],
   "source": [
    "%%R\n",
    "suppressPackageStartupMessages(library(scDblFinder))\n",
    "suppressPackageStartupMessages(library(SingleCellExperiment))"
   ]
  },
  {
   "cell_type": "code",
   "execution_count": null,
   "metadata": {},
   "outputs": [],
   "source": [
    "# Set output paths\n",
    "save_path_dir = \"output/doublet_scores/\"\n",
    "sample_ident = \"s4d8\"\n",
    "\n",
    "barcodes = list(atac.obs_names)\n",
    "data_mat = atac.X.T.A"
   ]
  },
  {
   "cell_type": "code",
   "execution_count": null,
   "metadata": {},
   "outputs": [],
   "source": [
    "%R -i data_mat -o dbl_score sce <- scDblFinder(SingleCellExperiment(list(counts=data_mat)), \\\n",
    "                                               clusters=TRUE, aggregateFeatures=TRUE, nfeatures=25, \\\n",
    "                                               processing=\"normFeatures\"); dbl_score <- sce$scDblFinder.score"
   ]
  },
  {
   "cell_type": "code",
   "execution_count": null,
   "metadata": {},
   "outputs": [],
   "source": [
    "scDbl_result = pd.DataFrame({\"barcodes\": barcodes, \"scDblFinder_score\": dbl_score})\n",
    "scDbl_result.to_csv(save_path_dir + \"/scDblFinder_scores_\" + sample_ident + \".csv\")\n",
    "\n",
    "scDbl_result.head()\n",
    "\n",
    "scDbl_result = scDbl_result.set_index(\"barcodes\")\n",
    "\n",
    "atac.obs[\"scDblFinder_score\"] = scDbl_result[\"scDblFinder_score\"]"
   ]
  },
  {
   "cell_type": "code",
   "execution_count": null,
   "metadata": {},
   "outputs": [],
   "source": [
    "%%R\n",
    "\n",
    "# Set up a GRanges objects of repeat elements, mitochondrial genes and sex chromosomes we want to exclude\n",
    "suppressPackageStartupMessages(library(GenomicRanges))\n",
    "suppressPackageStartupMessages(library(rtracklayer))\n",
    "\n",
    "repeats =  import('resources/blacklist_repeats_segdups_rmsk_hg38.bed')\n",
    "otherChroms <- GRanges(c(\"chrM\",\"chrX\",\"chrY\",\"MT\"),IRanges(1L,width=10^8)) # check which chromosome notation you are using c(\"M\", \"X\", \"Y\", \"MT\")\n",
    "toExclude <- suppressWarnings(c(repeats, otherChroms))"
   ]
  },
  {
   "cell_type": "code",
   "execution_count": null,
   "metadata": {},
   "outputs": [],
   "source": [
    "frag_path = atac.uns[\"files\"][\"fragments\"]\n",
    "frag_path"
   ]
  },
  {
   "cell_type": "code",
   "execution_count": null,
   "metadata": {},
   "outputs": [],
   "source": [
    "# Run AMULET\n",
    "%R -i frag_path -o amulet_result amulet_result <- amulet(frag_path, regionsToExclude=toExclude)\n",
    "\n",
    "# Save output\n",
    "amulet_result.to_csv(save_path_dir + \"/AMULET_scores_\" + sample_ident + \".csv\")"
   ]
  },
  {
   "cell_type": "code",
   "execution_count": null,
   "metadata": {},
   "outputs": [],
   "source": [
    "amulet_result.head()\n",
    "\n",
    "atac.obs[\"AMULET_pVal\"] = amulet_result[\"p.value\"]\n",
    "atac.obs[\"AMULET_qVal\"] = amulet_result[\"q.value\"]\n",
    "\n",
    "# Transform q-values for nicer plotting\n",
    "atac.obs[\"AMULET_negLog10qVal\"] = -1 * np.log10(amulet_result[\"q.value\"])"
   ]
  },
  {
   "cell_type": "code",
   "execution_count": null,
   "metadata": {},
   "outputs": [],
   "source": [
    "atac.obs.plot(x=\"scDblFinder_score\", y=\"AMULET_negLog10qVal\", kind=\"scatter\")\n",
    "\n",
    "plt.title(\"Association of doublet scores\")\n",
    "plt.show()"
   ]
  },
  {
   "cell_type": "code",
   "execution_count": null,
   "metadata": {},
   "outputs": [],
   "source": [
    "# Calculate general qc metrics using scanpy\n",
    "sc.pp.calculate_qc_metrics(atac, percent_top=None, log1p=False, inplace=True)\n",
    "\n",
    "# Rename columns\n",
    "atac.obs.rename(\n",
    "    columns={\n",
    "        \"n_genes_by_counts\": \"n_features_per_cell\",\n",
    "        \"total_counts\": \"total_fragment_counts\",\n",
    "    },\n",
    "    inplace=True,\n",
    ")\n",
    "\n",
    "# log-transform total counts and add as column\n",
    "atac.obs[\"log_total_fragment_counts\"] = np.log10(atac.obs[\"total_fragment_counts\"])"
   ]
  },
  {
   "cell_type": "code",
   "execution_count": null,
   "metadata": {},
   "outputs": [],
   "source": [
    "# Calculate the nucleosome signal across cells\n",
    "# set n=10e3*atac.n_obs for rough estimate but faster run time\n",
    "ac.tl.nucleosome_signal(atac, n=10e3 * atac.n_obs)"
   ]
  },
  {
   "cell_type": "code",
   "execution_count": null,
   "metadata": {},
   "outputs": [],
   "source": [
    "sns.histplot(atac.obs, x=\"nucleosome_signal\")\n",
    "plt.title(\"Distribution of the nucleome signal\")\n",
    "plt.show()\n",
    "\n",
    "# Alternatively as a violin plot (uncomment to plot)\n",
    "# sc.pl.violin(atac, \"nucleosome_signal\")"
   ]
  },
  {
   "cell_type": "code",
   "execution_count": null,
   "metadata": {},
   "outputs": [],
   "source": [
    "# Add group labels for above and below the nucleosome signal threshold\n",
    "nuc_signal_threshold = 2\n",
    "atac.obs[\"nuc_signal_filter\"] = [\n",
    "    \"NS_FAIL\" if ns > nuc_signal_threshold else \"NS_PASS\"\n",
    "    for ns in atac.obs[\"nucleosome_signal\"]\n",
    "]\n",
    "\n",
    "# Print number cells not passing nucleosome signal threshold\n",
    "atac.obs[\"nuc_signal_filter\"].value_counts()"
   ]
  },
  {
   "cell_type": "code",
   "execution_count": null,
   "metadata": {},
   "outputs": [],
   "source": [
    "atac.obs[\"nuc_signal_filter\"]  # = atac.obs[\"nuc_signal_filter\"].astype('category')"
   ]
  },
  {
   "cell_type": "code",
   "execution_count": null,
   "metadata": {},
   "outputs": [],
   "source": [
    "# Plot fragment size distribution\n",
    "p1 = ac.pl.fragment_histogram(\n",
    "    atac[atac.obs[\"nuc_signal_filter\"] == \"NS_PASS\"], region=\"chr1:1-2000000\"\n",
    ")\n",
    "\n",
    "p2 = ac.pl.fragment_histogram(\n",
    "    atac[atac.obs[\"nuc_signal_filter\"] == \"NS_FAIL\"], region=\"chr1:1-2000000\"\n",
    ")"
   ]
  },
  {
   "cell_type": "code",
   "execution_count": null,
   "metadata": {},
   "outputs": [],
   "source": [
    "tss = ac.tl.tss_enrichment(mdata, n_tss=3000, random_state=666)"
   ]
  },
  {
   "cell_type": "code",
   "execution_count": null,
   "metadata": {},
   "outputs": [],
   "source": [
    "fig, axs = plt.subplots(1, 2, figsize=(7, 3.5))\n",
    "\n",
    "p1 = sns.histplot(atac.obs, x=\"tss_score\", ax=axs[0])\n",
    "p1.set_title(\"Full range\")\n",
    "\n",
    "p2 = sns.histplot(\n",
    "    atac.obs,\n",
    "    x=\"tss_score\",\n",
    "    binrange=(0, atac.obs[\"tss_score\"].quantile(0.995)),\n",
    "    ax=axs[1],\n",
    ")\n",
    "p2.set_title(\"Up to 99.5% percentile\")\n",
    "\n",
    "plt.suptitle(\"Distribution of the TSS score\")\n",
    "\n",
    "plt.tight_layout()\n",
    "plt.show()"
   ]
  },
  {
   "cell_type": "code",
   "execution_count": null,
   "metadata": {},
   "outputs": [],
   "source": [
    "tss_threshold = 1.5\n",
    "tss.obs[\"tss_filter\"] = [\n",
    "    \"TSS_FAIL\" if score < tss_threshold else \"TSS_PASS\"\n",
    "    for score in atac.obs[\"tss_score\"]\n",
    "]\n",
    "\n",
    "# Print number cells not passing nucleosome signal threshold\n",
    "tss.obs[\"tss_filter\"].value_counts()"
   ]
  },
  {
   "cell_type": "code",
   "execution_count": null,
   "metadata": {},
   "outputs": [],
   "source": [
    "# Temporarily set different color palette\n",
    "sns.set_palette(palette=\"Set1\")\n",
    "ac.pl.tss_enrichment(tss, color=\"tss_filter\")\n",
    "# reset color palette\n",
    "sns.set_palette(palette=\"tab10\")"
   ]
  },
  {
   "cell_type": "code",
   "execution_count": null,
   "metadata": {},
   "outputs": [],
   "source": [
    "atac"
   ]
  },
  {
   "cell_type": "code",
   "execution_count": null,
   "metadata": {},
   "outputs": [],
   "source": [
    "# save after calculation of QC metrics\n",
    "atac.write_h5ad(\"output/atac_qc_metrics.h5ad\")"
   ]
  },
  {
   "cell_type": "code",
   "execution_count": null,
   "metadata": {},
   "outputs": [],
   "source": [
    "# Reload from file if needed\n",
    "# atac = sc.read_h5ad(\"output/atac_qc_metrics.h5ad\")"
   ]
  },
  {
   "cell_type": "code",
   "execution_count": null,
   "metadata": {},
   "outputs": [],
   "source": [
    "# Set thresholds for upper boundaries.\n",
    "# These were identified by looking at the plots in this code cell before.\n",
    "total_count_upper = 100000\n",
    "tss_upper = 50\n",
    "nucleosome_signal_upper = 2\n",
    "\n",
    "\n",
    "# Plot total counts of fragments & features colored by TSS score\n",
    "p1 = sc.pl.scatter(\n",
    "    atac,\n",
    "    x=\"total_fragment_counts\",\n",
    "    y=\"n_features_per_cell\",\n",
    "    size=40,\n",
    "    color=\"tss_score\",\n",
    "    show=False,  # so that funstion output axis object where threshold line can be drawn.\n",
    ")\n",
    "p1.axvline(x=total_count_upper, c=\"red\")  # Add vertical line\n",
    "\n",
    "# tss.score\n",
    "p2 = sc.pl.violin(atac, \"tss_score\", show=False)\n",
    "p2.set_ylim(0, 200)  # zooming in a little to\n",
    "p2.axhline(y=tss_upper, c=\"red\")  # Add horizontal line\n",
    "\n",
    "# nucleosome signal\n",
    "p3 = sc.pl.violin(atac, \"nucleosome_signal\", show=False)\n",
    "p3.axhline(y=nucleosome_signal_upper, c=\"red\")\n",
    "\n",
    "plt.show()"
   ]
  },
  {
   "cell_type": "code",
   "execution_count": null,
   "metadata": {},
   "outputs": [],
   "source": [
    "# upper TSS score boundary for plotting\n",
    "plot_tss_max = 20\n",
    "\n",
    "# Suggested thresholds (before log transform)\n",
    "count_cutoff_lower = 1500\n",
    "lcount_cutoff_upper = 100000\n",
    "tss_cutoff_lower = 1.5\n",
    "\n",
    "# Scatter plot & histograms\n",
    "g = sns.jointplot(\n",
    "    data=atac[(atac.obs[\"tss_score\"] < plot_tss_max)].obs,\n",
    "    x=\"log_total_fragment_counts\",\n",
    "    y=\"tss_score\",\n",
    "    color=\"black\",\n",
    "    marker=\".\",\n",
    ")\n",
    "# Density plot including lines\n",
    "g.plot_joint(sns.kdeplot, fill=True, cmap=\"Blues\", zorder=1, alpha=0.75)\n",
    "g.plot_joint(sns.kdeplot, color=\"black\", zorder=2, alpha=0.75)\n",
    "\n",
    "# Lines thresholds\n",
    "plt.axvline(x=np.log10(count_cutoff_lower), c=\"red\")\n",
    "plt.axvline(x=np.log10(lcount_cutoff_upper), c=\"red\")\n",
    "plt.axhline(y=tss_cutoff_lower, c=\"red\")\n",
    "\n",
    "plt.show()"
   ]
  },
  {
   "cell_type": "code",
   "execution_count": null,
   "metadata": {},
   "outputs": [],
   "source": [
    "fig, axs = plt.subplots(1, 2, figsize=(7, 3.5))\n",
    "\n",
    "p1 = sns.histplot(\n",
    "    atac.obs.loc[atac.obs[\"total_fragment_counts\"] < 15000],\n",
    "    x=\"total_fragment_counts\",\n",
    "    bins=40,\n",
    "    ax=axs[0],\n",
    ")\n",
    "p1.set_title(\"< 15000\")\n",
    "\n",
    "p2 = sns.histplot(\n",
    "    atac.obs.loc[atac.obs[\"total_fragment_counts\"] < 3500],\n",
    "    x=\"total_fragment_counts\",\n",
    "    bins=40,\n",
    "    ax=axs[1],\n",
    ")\n",
    "p2.set_title(\"< 3500\")\n",
    "p2.axvline(x=1250, c=\"black\", linestyle=\"--\")\n",
    "p2.axvline(x=1750, c=\"black\", linestyle=\"--\")\n",
    "\n",
    "plt.suptitle(\"Total fragment count per cell\")\n",
    "\n",
    "plt.tight_layout()\n",
    "plt.show()"
   ]
  },
  {
   "cell_type": "code",
   "execution_count": null,
   "metadata": {},
   "outputs": [],
   "source": [
    "# Scatter plot total fragment count by number of features\n",
    "\n",
    "n_feature_cutoff = 750  # added after looking at this plot\n",
    "\n",
    "p2 = sc.pl.scatter(\n",
    "    atac[atac.obs.total_fragment_counts < 3500],\n",
    "    x=\"total_fragment_counts\",\n",
    "    y=\"n_features_per_cell\",\n",
    "    size=100,\n",
    "    color=\"tss_score\",\n",
    "    show=False,\n",
    ")\n",
    "p2.axvline(x=count_cutoff_lower, c=\"red\")\n",
    "p2.axhline(y=n_feature_cutoff, c=\"red\")\n",
    "\n",
    "plt.show()"
   ]
  },
  {
   "cell_type": "code",
   "execution_count": null,
   "metadata": {},
   "outputs": [],
   "source": [
    "print(f\"Total number of cells: {atac.n_obs}\")\n",
    "mu.pp.filter_obs(\n",
    "    atac,\n",
    "    \"total_fragment_counts\",\n",
    "    lambda x: (x >= 1500) & (x <= 100000),\n",
    ")\n",
    "print(f\"Number of cells after filtering on total_fragment_counts: {atac.n_obs}\")\n",
    "mu.pp.filter_obs(atac, \"n_features_per_cell\", lambda x: x >= 750)\n",
    "print(f\"Number of cells after filtering on n_features_per_cell: {atac.n_obs}\")"
   ]
  },
  {
   "cell_type": "code",
   "execution_count": null,
   "metadata": {},
   "outputs": [],
   "source": [
    "mu.pp.filter_obs(\n",
    "    atac,\n",
    "    \"tss_score\",\n",
    "    lambda x: (x >= 1.5) & (x <= 50),\n",
    ")\n",
    "print(f\"Number of cells after filtering on tss_score: {atac.n_obs}\")\n",
    "mu.pp.filter_obs(atac, \"nucleosome_signal\", lambda x: x <= 2)\n",
    "print(f\"Number of cells after filtering on nucleosome_signal: {atac.n_obs}\")"
   ]
  },
  {
   "cell_type": "code",
   "execution_count": null,
   "metadata": {},
   "outputs": [],
   "source": [
    "mu.pp.filter_var(atac, \"n_cells_by_counts\", lambda x: x >= 15)\n",
    "\n",
    "atac.layers[\"counts\"] = atac.X\n",
    "atac"
   ]
  },
  {
   "cell_type": "code",
   "execution_count": null,
   "metadata": {},
   "outputs": [],
   "source": [
    "atac.write_h5ad(\"output/atac_qc_filtered.h5ad\")"
   ]
  }
 ],
 "metadata": {
  "kernelspec": {
   "display_name": "chromatin",
   "language": "python",
   "name": "python3"
  },
  "language_info": {
   "codemirror_mode": {
    "name": "ipython",
    "version": 3
   },
   "file_extension": ".py",
   "mimetype": "text/x-python",
   "name": "python",
   "nbconvert_exporter": "python",
   "pygments_lexer": "ipython3",
   "version": "3.11.10"
  }
 },
 "nbformat": 4,
 "nbformat_minor": 2
}
